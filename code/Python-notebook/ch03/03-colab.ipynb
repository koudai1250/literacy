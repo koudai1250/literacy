{
  "cells": [
    {
      "cell_type": "markdown",
      "metadata": {
        "id": "_kSCXVWNHyDO"
      },
      "source": [
        "# 03"
      ],
      "id": "_kSCXVWNHyDO"
    },
    {
      "cell_type": "code",
      "execution_count": null,
      "metadata": {
        "id": "tmrJwnT-HyDU"
      },
      "outputs": [],
      "source": [
        "# Google Colaboratoryの環境設定\n",
        "!pip install pandarallel | tail -n 1"
      ],
      "id": "tmrJwnT-HyDU"
    },
    {
      "cell_type": "markdown",
      "metadata": {
        "id": "alicaAi2HyDX"
      },
      "source": [
        "## 3.1 入門\n",
        "\n",
        "### 3.1.1 数値"
      ],
      "id": "alicaAi2HyDX"
    },
    {
      "cell_type": "code",
      "execution_count": null,
      "metadata": {
        "id": "2W1TcCwOHyDX"
      },
      "outputs": [],
      "source": [
        "0x10\n",
        "#> 16"
      ],
      "id": "2W1TcCwOHyDX"
    },
    {
      "cell_type": "code",
      "execution_count": null,
      "metadata": {
        "id": "13isXXf-HyDY"
      },
      "outputs": [],
      "source": [
        "1.23e5\n",
        "#> 123000.0"
      ],
      "id": "13isXXf-HyDY"
    },
    {
      "cell_type": "code",
      "execution_count": null,
      "metadata": {
        "id": "1CpVnipiHyDZ"
      },
      "outputs": [],
      "source": [
        "2 * 3\n",
        "#> 6"
      ],
      "id": "1CpVnipiHyDZ"
    },
    {
      "cell_type": "code",
      "execution_count": null,
      "metadata": {
        "id": "YFFDnBC2HyDa"
      },
      "outputs": [],
      "source": [
        "10 / 3\n",
        "#> 3.3333333333333335"
      ],
      "id": "YFFDnBC2HyDa"
    },
    {
      "cell_type": "code",
      "execution_count": null,
      "metadata": {
        "id": "wGKltXPTHyDb"
      },
      "outputs": [],
      "source": [
        "10 // 3 # 商\n",
        "#> 3\n",
        "\n",
        "10 % 3  # 余り\n",
        "#> 1"
      ],
      "id": "wGKltXPTHyDb"
    },
    {
      "cell_type": "markdown",
      "metadata": {
        "id": "yBkPIWOyHyDc"
      },
      "source": [
        "### 3.1.2 変数"
      ],
      "id": "yBkPIWOyHyDc"
    },
    {
      "cell_type": "code",
      "execution_count": null,
      "metadata": {
        "id": "aw_MCM8-HyDc"
      },
      "outputs": [],
      "source": [
        "x = 2\n",
        "y = 3\n",
        "x * y\n",
        "#> 6\n",
        "\n",
        "x, y = 20, 30 # まとめて名付け\n",
        "x * y\n",
        "#> 600"
      ],
      "id": "aw_MCM8-HyDc"
    },
    {
      "cell_type": "code",
      "execution_count": null,
      "metadata": {
        "id": "XFjluoumHyDd"
      },
      "outputs": [],
      "source": [
        "x = 1 + 1\n",
        "# この段階では結果は表示されない\n",
        "\n",
        "x # 変数名を評価する．\n",
        "#> 2"
      ],
      "id": "XFjluoumHyDd"
    },
    {
      "cell_type": "markdown",
      "metadata": {
        "id": "shxEyOhTHyDd"
      },
      "source": [
        "### 3.1.3 文字列"
      ],
      "id": "shxEyOhTHyDd"
    },
    {
      "cell_type": "code",
      "execution_count": null,
      "metadata": {
        "id": "HvJSbKY9HyDe"
      },
      "outputs": [],
      "source": [
        "my_s = 'abcde'"
      ],
      "id": "HvJSbKY9HyDe"
    },
    {
      "cell_type": "code",
      "execution_count": null,
      "metadata": {
        "id": "rRdMqye-HyDe"
      },
      "outputs": [],
      "source": [
        "len(my_s)\n",
        "#> 5"
      ],
      "id": "rRdMqye-HyDe"
    },
    {
      "cell_type": "code",
      "execution_count": null,
      "metadata": {
        "id": "nD59XOT-HyDe"
      },
      "outputs": [],
      "source": [
        "'This is' ' a' ' pen.'\n",
        "# あるいは\n",
        "'This is ' + 'a' + ' pen.'\n",
        "#> 'This is a pen.'"
      ],
      "id": "nD59XOT-HyDe"
    },
    {
      "cell_type": "code",
      "execution_count": null,
      "metadata": {
        "id": "RjQ5rMGiHyDf"
      },
      "outputs": [],
      "source": [
        "my_s[1:4]\n",
        "#> 'bcd'"
      ],
      "id": "RjQ5rMGiHyDf"
    },
    {
      "cell_type": "code",
      "execution_count": null,
      "metadata": {
        "id": "p7-DP6bdHyDf"
      },
      "outputs": [],
      "source": [
        "tmp = \"{} is {}.\"\n",
        "tmp.format('This', 'a pen')\n",
        "#> 'This is a pen.'"
      ],
      "id": "p7-DP6bdHyDf"
    },
    {
      "cell_type": "markdown",
      "metadata": {
        "id": "BCGEFnqNHyDf"
      },
      "source": [
        "### 3.1.4 論理値"
      ],
      "id": "BCGEFnqNHyDf"
    },
    {
      "cell_type": "code",
      "execution_count": null,
      "metadata": {
        "id": "hdJBGsikHyDg"
      },
      "outputs": [],
      "source": [
        "1 <= 2\n",
        "#> True\n",
        "\n",
        "1 < 0\n",
        "#> False"
      ],
      "id": "hdJBGsikHyDg"
    },
    {
      "cell_type": "code",
      "execution_count": null,
      "metadata": {
        "id": "lVxtXeMuHyDg"
      },
      "outputs": [],
      "source": [
        "0.1 + 0.1 + 0.1 == 0.3\n",
        "#> False\n",
        "\n",
        "import math\n",
        "math.isclose(0.1 + 0.1 + 0.1, 0.3)\n",
        "#> True"
      ],
      "id": "lVxtXeMuHyDg"
    },
    {
      "cell_type": "code",
      "execution_count": null,
      "metadata": {
        "id": "1KHfw0abHyDg"
      },
      "outputs": [],
      "source": [
        "True and False # 論理積（かつ）\n",
        "#> False\n",
        "\n",
        "True or False  # 論理和（または）\n",
        "#> True\n",
        "\n",
        "not True       # 否定（でない）\n",
        "#> False"
      ],
      "id": "1KHfw0abHyDg"
    },
    {
      "cell_type": "markdown",
      "metadata": {
        "id": "FkQSEvlTHyDg"
      },
      "source": [
        "#### 3.1.4.1 条件演算子"
      ],
      "id": "FkQSEvlTHyDg"
    },
    {
      "cell_type": "code",
      "execution_count": null,
      "metadata": {
        "id": "FW0bcIPbHyDh"
      },
      "outputs": [],
      "source": [
        "0 if 3 < 5 else 10\n",
        "#> 0"
      ],
      "id": "FW0bcIPbHyDh"
    },
    {
      "cell_type": "markdown",
      "metadata": {
        "id": "nULSly9ZHyDh"
      },
      "source": [
        "### 3.1.5 作業ディレクトリ"
      ],
      "id": "nULSly9ZHyDh"
    },
    {
      "cell_type": "code",
      "execution_count": null,
      "metadata": {
        "id": "uBdiH5TiHyDh"
      },
      "outputs": [],
      "source": [
        "import os\n",
        "os.getcwd()\n",
        "#> '/home/jovyan/work'"
      ],
      "id": "uBdiH5TiHyDh"
    },
    {
      "cell_type": "code",
      "execution_count": null,
      "metadata": {
        "id": "aTeoTQvBHyDh"
      },
      "outputs": [],
      "source": [
        "os.chdir('..')\n",
        "os.getcwd()\n",
        "#> '/home/jovyan'"
      ],
      "id": "aTeoTQvBHyDh"
    },
    {
      "cell_type": "markdown",
      "metadata": {
        "id": "koIZC4P2HyDj"
      },
      "source": [
        "## 3.2 関数\n",
        "\n",
        "### 3.2.1 関数の利用"
      ],
      "id": "koIZC4P2HyDj"
    },
    {
      "cell_type": "code",
      "execution_count": null,
      "metadata": {
        "id": "HhRU-zgnHyDj"
      },
      "outputs": [],
      "source": [
        "import math\n",
        "math.sqrt(4)\n",
        "#> 2.0"
      ],
      "id": "HhRU-zgnHyDj"
    },
    {
      "cell_type": "code",
      "execution_count": null,
      "metadata": {
        "id": "SBEW6OWgHyDk"
      },
      "outputs": [],
      "source": [
        "math.log(100, 10)\n",
        "#> 2.0"
      ],
      "id": "SBEW6OWgHyDk"
    },
    {
      "cell_type": "code",
      "execution_count": null,
      "metadata": {
        "id": "U3jTGs8ZHyDk"
      },
      "outputs": [],
      "source": [
        "math.log(100)         # 自然対数\n",
        "# あるいは\n",
        "math.log(100, math.e) # 省略しない場合\n",
        "\n",
        "#> 4.605170185988092"
      ],
      "id": "U3jTGs8ZHyDk"
    },
    {
      "cell_type": "code",
      "execution_count": null,
      "metadata": {
        "id": "MO8ly-yTHyDk"
      },
      "outputs": [],
      "source": [
        "math.log10(100) # 常用対数\n",
        "#> 2.0\n",
        "\n",
        "math.log2(1024) # 底が2の対数\n",
        "#> 10.0"
      ],
      "id": "MO8ly-yTHyDk"
    },
    {
      "cell_type": "markdown",
      "metadata": {
        "id": "DCmMwnOIHyDk"
      },
      "source": [
        "#### 3.2.1.1 パイプ（Rのみ）\n",
        "\n",
        "### 3.2.2 関数の定義"
      ],
      "id": "DCmMwnOIHyDk"
    },
    {
      "cell_type": "code",
      "execution_count": null,
      "metadata": {
        "id": "oYnhlxoDHyDk"
      },
      "outputs": [],
      "source": [
        "def f(a, b):\n",
        "    return a - b"
      ],
      "id": "oYnhlxoDHyDk"
    },
    {
      "cell_type": "code",
      "execution_count": null,
      "metadata": {
        "id": "npuhGqseHyDl"
      },
      "outputs": [],
      "source": [
        "f(3, 5)\n",
        "#> -2"
      ],
      "id": "npuhGqseHyDl"
    },
    {
      "cell_type": "markdown",
      "metadata": {
        "id": "-g-joXYZHyDl"
      },
      "source": [
        "#### 3.2.2.1 デフォルト引数"
      ],
      "id": "-g-joXYZHyDl"
    },
    {
      "cell_type": "code",
      "execution_count": null,
      "metadata": {
        "id": "KcvcytqtHyDl"
      },
      "outputs": [],
      "source": [
        "def f(a, b=5):\n",
        "    return a - b\n",
        "\n",
        "f(3) # f(3, 5)と同じこと\n",
        "#> -2"
      ],
      "id": "KcvcytqtHyDl"
    },
    {
      "cell_type": "markdown",
      "metadata": {
        "id": "YCYNbNicHyDl"
      },
      "source": [
        "#### 3.2.2.2 無名関数"
      ],
      "id": "YCYNbNicHyDl"
    },
    {
      "cell_type": "code",
      "execution_count": null,
      "metadata": {
        "id": "fWW0W3TPHyDm"
      },
      "outputs": [],
      "source": [
        "(lambda a, b: a - b)(3, 5)\n",
        "#> -2"
      ],
      "id": "fWW0W3TPHyDm"
    },
    {
      "cell_type": "markdown",
      "metadata": {
        "id": "DB1VdI10HyDm"
      },
      "source": [
        "## 3.3 コレクション\n",
        "\n",
        "### 3.3.1 1次元データ"
      ],
      "id": "DB1VdI10HyDm"
    },
    {
      "cell_type": "code",
      "execution_count": null,
      "metadata": {
        "id": "7TiNUh5jHyDu"
      },
      "outputs": [],
      "source": [
        "x = ['foo', 'bar', 'baz']"
      ],
      "id": "7TiNUh5jHyDu"
    },
    {
      "cell_type": "code",
      "execution_count": null,
      "metadata": {
        "id": "fVJgNjzGHyDu"
      },
      "outputs": [],
      "source": [
        "len(x)\n",
        "#> 3"
      ],
      "id": "fVJgNjzGHyDu"
    },
    {
      "cell_type": "code",
      "execution_count": null,
      "metadata": {
        "id": "H5ajpq4GHyDv"
      },
      "outputs": [],
      "source": [
        "x[1]\n",
        "#> 'bar'"
      ],
      "id": "H5ajpq4GHyDv"
    },
    {
      "cell_type": "code",
      "execution_count": null,
      "metadata": {
        "id": "LYpAhpG0HyDv"
      },
      "outputs": [],
      "source": [
        "x[1] = 'BAR'\n",
        "x # 結果の確認\n",
        "#> ['foo', 'BAR', 'baz']\n",
        "\n",
        "x[1] = 'bar' # 元に戻す．"
      ],
      "id": "LYpAhpG0HyDv"
    },
    {
      "cell_type": "code",
      "execution_count": null,
      "metadata": {
        "id": "I6KwfOJgHyDw"
      },
      "outputs": [],
      "source": [
        "x[-2]\n",
        "#> 'bar'"
      ],
      "id": "I6KwfOJgHyDw"
    },
    {
      "cell_type": "code",
      "execution_count": null,
      "metadata": {
        "id": "E1bUGGDjHyDw"
      },
      "outputs": [],
      "source": [
        "x + ['qux']\n",
        "#> ['foo', 'bar', 'baz', 'qux']"
      ],
      "id": "E1bUGGDjHyDw"
    },
    {
      "cell_type": "code",
      "execution_count": null,
      "metadata": {
        "id": "_nCIes-vHyDw"
      },
      "outputs": [],
      "source": [
        "x = x + ['qux']\n",
        "# あるいは\n",
        "#x.append('qux')\n",
        "\n",
        "x # 結果の確認\n",
        "#> ['foo', 'bar', 'baz', 'qux']"
      ],
      "id": "_nCIes-vHyDw"
    },
    {
      "cell_type": "markdown",
      "metadata": {
        "id": "HArGuIY9HyDw"
      },
      "source": [
        "#### 3.3.1.1 等間隔の数値からなる1次元データ"
      ],
      "id": "HArGuIY9HyDw"
    },
    {
      "cell_type": "code",
      "execution_count": null,
      "metadata": {
        "id": "FPxGXeZ1HyDx"
      },
      "outputs": [],
      "source": [
        "list(range(5))\n",
        "#> [0, 1, 2, 3, 4]"
      ],
      "id": "FPxGXeZ1HyDx"
    },
    {
      "cell_type": "code",
      "execution_count": null,
      "metadata": {
        "id": "DZdOoRC8HyDx"
      },
      "outputs": [],
      "source": [
        "list(range(0, 11, 2))\n",
        "#> [0, 2, 4, 6, 8, 10]"
      ],
      "id": "DZdOoRC8HyDx"
    },
    {
      "cell_type": "code",
      "execution_count": null,
      "metadata": {
        "id": "JEcG96t0HyDx"
      },
      "outputs": [],
      "source": [
        "import numpy as np\n",
        "np.arange(0, 1.1, 0.5)\n",
        "#> array([0. , 0.5, 1. ])"
      ],
      "id": "JEcG96t0HyDx"
    },
    {
      "cell_type": "code",
      "execution_count": null,
      "metadata": {
        "id": "jkyVu9HTHyDx"
      },
      "outputs": [],
      "source": [
        "np.linspace(0, 100, 5)\n",
        "#> array([ 0., 25., 50., 75., 100.])"
      ],
      "id": "jkyVu9HTHyDx"
    },
    {
      "cell_type": "code",
      "execution_count": null,
      "metadata": {
        "id": "t9Ir-paKHyDx"
      },
      "outputs": [],
      "source": [
        "[10] * 5\n",
        "#> [10, 10, 10, 10, 10]"
      ],
      "id": "t9Ir-paKHyDx"
    },
    {
      "cell_type": "markdown",
      "metadata": {
        "id": "koKXFrbdHyDy"
      },
      "source": [
        "#### 3.3.1.2 ファクタ（Rのみ）\n",
        "\n",
        "### 3.3.2 数値計算やデータ解析用の1次元データ"
      ],
      "id": "koKXFrbdHyDy"
    },
    {
      "cell_type": "code",
      "execution_count": null,
      "metadata": {
        "id": "K0J9mt39HyDy"
      },
      "outputs": [],
      "source": [
        "import numpy as np\n",
        "x = np.array([2, 3, 5, 7])\n",
        "\n",
        "x + 10 # 加算\n",
        "#> array([12, 13, 15, 17])\n",
        "\n",
        "x * 10 # 乗算\n",
        "#> array([20, 30, 50, 70])"
      ],
      "id": "K0J9mt39HyDy"
    },
    {
      "cell_type": "code",
      "execution_count": null,
      "metadata": {
        "id": "caDIga7hHyDy"
      },
      "outputs": [],
      "source": [
        "x = [2, 3]\n",
        "np.sin(x)\n",
        "#> array([0.90929743, 0.14112001])"
      ],
      "id": "caDIga7hHyDy"
    },
    {
      "cell_type": "code",
      "execution_count": null,
      "metadata": {
        "id": "gKdPMHNTHyDz"
      },
      "outputs": [],
      "source": [
        "x = np.array([2,  3,   5,    7])\n",
        "y = np.array([1, 10, 100, 1000])\n",
        "x + y\n",
        "#> array([   3,   13,  105, 1007])\n",
        "\n",
        "x * y\n",
        "#> array([   2,   30,  500, 7000])"
      ],
      "id": "gKdPMHNTHyDz"
    },
    {
      "cell_type": "code",
      "execution_count": null,
      "metadata": {
        "id": "QV9CBvBKHyDz"
      },
      "outputs": [],
      "source": [
        "np.dot(x, y)\n",
        "# あるいは\n",
        "x @ y\n",
        "\n",
        "#> 7532"
      ],
      "id": "QV9CBvBKHyDz"
    },
    {
      "cell_type": "code",
      "execution_count": null,
      "metadata": {
        "id": "4P3Q_DaLHyDz"
      },
      "outputs": [],
      "source": [
        "x = np.array([True, False])\n",
        "y = np.array([True, True])\n",
        "x & y\n",
        "#> array([ True, False])"
      ],
      "id": "4P3Q_DaLHyDz"
    },
    {
      "cell_type": "markdown",
      "metadata": {
        "id": "SxjSn3fsHyD0"
      },
      "source": [
        "#### 3.3.2.1 1次元データ同士の比較"
      ],
      "id": "SxjSn3fsHyD0"
    },
    {
      "cell_type": "code",
      "execution_count": null,
      "metadata": {
        "id": "bVFQgHPdHyD0"
      },
      "outputs": [],
      "source": [
        "u = np.array([1, 2, 3])\n",
        "v = np.array([1, 2, 3])\n",
        "w = np.array([1, 2, 4])\n",
        "\n",
        "all(u == v) # 全体の比較\n",
        "#> True\n",
        "\n",
        "all(u == w) # 全体の比較\n",
        "#> False\n",
        "\n",
        "u == v      # 要素ごとの比較\n",
        "#> array([ True,  True,  True])\n",
        "\n",
        "u == w      # 要素ごとの比較\n",
        "#> array([ True,  True, False])"
      ],
      "id": "bVFQgHPdHyD0"
    },
    {
      "cell_type": "code",
      "execution_count": null,
      "metadata": {
        "id": "kPZtGXB8HyD0"
      },
      "outputs": [],
      "source": [
        "(u == w).sum()  # 同じ要素の数\n",
        "#> 2\n",
        "\n",
        "(u == w).mean() # 同じ要素の割合\n",
        "#> [1] 0.6666667"
      ],
      "id": "kPZtGXB8HyD0"
    },
    {
      "cell_type": "markdown",
      "metadata": {
        "id": "6mgukd8nHyD0"
      },
      "source": [
        "### 3.3.3 複数種類のデータをひとまとめにする"
      ],
      "id": "6mgukd8nHyD0"
    },
    {
      "cell_type": "code",
      "execution_count": null,
      "metadata": {
        "id": "G3jm2gwRHyD1"
      },
      "outputs": [],
      "source": [
        "x = [1, \"two\"]"
      ],
      "id": "G3jm2gwRHyD1"
    },
    {
      "cell_type": "code",
      "execution_count": null,
      "metadata": {
        "id": "I9hkZD7tHyD1"
      },
      "outputs": [],
      "source": [
        "x[1]\n",
        "#> 'two'"
      ],
      "id": "I9hkZD7tHyD1"
    },
    {
      "cell_type": "markdown",
      "metadata": {
        "id": "VbjjQsQQHyD1"
      },
      "source": [
        "### 3.3.4 文字列と値のペアのコレクション"
      ],
      "id": "VbjjQsQQHyD1"
    },
    {
      "cell_type": "code",
      "execution_count": null,
      "metadata": {
        "id": "Y8uNIGvpHyD1"
      },
      "outputs": [],
      "source": [
        "x = {'apple' : 'りんご',\n",
        "     'orange': 'みかん'}"
      ],
      "id": "Y8uNIGvpHyD1"
    },
    {
      "cell_type": "code",
      "execution_count": null,
      "metadata": {
        "id": "Q8j8hm5IHyD2"
      },
      "outputs": [],
      "source": [
        "x['grape'] = 'ぶどう'"
      ],
      "id": "Q8j8hm5IHyD2"
    },
    {
      "cell_type": "code",
      "execution_count": null,
      "metadata": {
        "id": "bNa7b3gaHyD2"
      },
      "outputs": [],
      "source": [
        "x['apple']\n",
        "# あるいは\n",
        "tmp = 'apple'\n",
        "x[tmp]\n",
        "\n",
        "#> 'りんご'"
      ],
      "id": "bNa7b3gaHyD2"
    },
    {
      "cell_type": "markdown",
      "metadata": {
        "id": "zfpEQZrMHyD3"
      },
      "source": [
        "### 3.3.5 補足：コピーと参照"
      ],
      "id": "zfpEQZrMHyD3"
    },
    {
      "cell_type": "code",
      "execution_count": null,
      "metadata": {
        "id": "1t2wSGkKHyD3"
      },
      "outputs": [],
      "source": [
        "x = ['foo', 'bar', 'baz']\n",
        "y = x\n",
        "y[1] = 'BAR' # yを更新する．\n",
        "y\n",
        "#> ['foo', 'BAR', 'baz']\n",
        "\n",
        "x            # xも変わる．\n",
        "#> ['foo', 'BAR', 'baz']"
      ],
      "id": "1t2wSGkKHyD3"
    },
    {
      "cell_type": "code",
      "execution_count": null,
      "metadata": {
        "id": "jl1i90kOHyD3"
      },
      "outputs": [],
      "source": [
        "x = ['foo', 'bar', 'baz']\n",
        "y = x.copy()             # 「y = x」とせずに，コピーする．\n",
        "x == y, x is y\n",
        "#> (True, False)         # xとyは，等価（内容は同じ）だが同一ではない．\n",
        "\n",
        "y[1] = 'BAR'             # yを更新しても，\n",
        "x\n",
        "#> ['foo', 'bar', 'baz'] # xは変化しない．"
      ],
      "id": "jl1i90kOHyD3"
    },
    {
      "cell_type": "markdown",
      "metadata": {
        "id": "OqmMlaTTHyD4"
      },
      "source": [
        "## 3.4 データフレーム\n",
        "\n",
        "### 3.4.1 データフレームの作成"
      ],
      "id": "OqmMlaTTHyD4"
    },
    {
      "cell_type": "code",
      "execution_count": null,
      "metadata": {
        "id": "8S01TxhHHyD4"
      },
      "outputs": [],
      "source": [
        "import pandas as pd"
      ],
      "id": "8S01TxhHHyD4"
    },
    {
      "cell_type": "markdown",
      "metadata": {
        "id": "Lyt4JRJcHyD5"
      },
      "source": [
        "#### 3.4.1.1 データを列ごとに記述する方法"
      ],
      "id": "Lyt4JRJcHyD5"
    },
    {
      "cell_type": "code",
      "execution_count": null,
      "metadata": {
        "id": "gGssYvjAHyD5"
      },
      "outputs": [],
      "source": [
        "my_df = pd.DataFrame({\n",
        "    'name':    ['A', 'B', 'C', 'D'],\n",
        "    'english': [ 60,  90,  70,  90],\n",
        "    'math':    [ 70,  80,  90, 100],\n",
        "    'gender':  ['f', 'm', 'm', 'f']})"
      ],
      "id": "gGssYvjAHyD5"
    },
    {
      "cell_type": "markdown",
      "metadata": {
        "id": "4ldUw_lOHyD5"
      },
      "source": [
        "#### 3.4.1.2 データを見た目のとおりに記述する方法"
      ],
      "id": "4ldUw_lOHyD5"
    },
    {
      "cell_type": "code",
      "execution_count": null,
      "metadata": {
        "id": "N4-yRGx7HyD6"
      },
      "outputs": [],
      "source": [
        "my_df = pd.DataFrame([\n",
        "    ['A', 60,  70, 'f'],\n",
        "    ['B', 90,  80, 'm'],\n",
        "    ['C', 70,  90, 'm'],\n",
        "    ['D', 90, 100, 'f']],\n",
        "    columns=['name', 'english',\n",
        "             'math', 'gender'])"
      ],
      "id": "N4-yRGx7HyD6"
    },
    {
      "cell_type": "code",
      "execution_count": null,
      "metadata": {
        "id": "dOxwMA_8HyD6"
      },
      "outputs": [],
      "source": [
        "my_df.head()\n",
        "# 結果は割愛"
      ],
      "id": "dOxwMA_8HyD6"
    },
    {
      "cell_type": "markdown",
      "metadata": {
        "id": "2ZP4QNbuHyD7"
      },
      "source": [
        "#### 3.4.1.3 データフレームのサイズ"
      ],
      "id": "2ZP4QNbuHyD7"
    },
    {
      "cell_type": "code",
      "execution_count": null,
      "metadata": {
        "id": "Q_HA4sOrHyD7"
      },
      "outputs": [],
      "source": [
        "r, c = my_df.shape # 行数と列数\n",
        "r, c\n",
        "#> (4, 4)\n",
        "\n",
        "r # 行数（len(my_df)も可）\n",
        "#> 4\n",
        "\n",
        "c # 列数\n",
        "#> 4"
      ],
      "id": "Q_HA4sOrHyD7"
    },
    {
      "cell_type": "markdown",
      "metadata": {
        "id": "Dtl6CShJHyD7"
      },
      "source": [
        "#### 3.4.1.4 組合せ"
      ],
      "id": "Dtl6CShJHyD7"
    },
    {
      "cell_type": "code",
      "execution_count": null,
      "metadata": {
        "id": "R_n2v2zDHyD8"
      },
      "outputs": [],
      "source": [
        "from itertools import product\n",
        "my_df2 = pd.DataFrame(\n",
        "    product([1, 2, 3],\n",
        "            [10, 100]),\n",
        "    columns=['X', 'Y'])\n",
        "my_df2\n",
        "#>    X    Y\n",
        "#> 0  1   10\n",
        "#> 1  1  100\n",
        "#> 2  2   10\n",
        "#> 3  2  100\n",
        "#> 4  3   10\n",
        "#> 5  3  100"
      ],
      "id": "R_n2v2zDHyD8"
    },
    {
      "cell_type": "markdown",
      "metadata": {
        "id": "V7Uyo9_aHyD8"
      },
      "source": [
        "#### 3.4.1.5 列と行の名前"
      ],
      "id": "V7Uyo9_aHyD8"
    },
    {
      "cell_type": "code",
      "execution_count": null,
      "metadata": {
        "id": "Y2F8L4lSHyD8"
      },
      "outputs": [],
      "source": [
        "my_df2.columns\n",
        "#> Index(['X', 'Y'], dtype='object')"
      ],
      "id": "Y2F8L4lSHyD8"
    },
    {
      "cell_type": "code",
      "execution_count": null,
      "metadata": {
        "id": "KBC1TmYUHyD8"
      },
      "outputs": [],
      "source": [
        "my_df2.columns = ['P', 'Q']\n",
        "my_df2\n",
        "#>    P    Q\n",
        "#> 0  1   10\n",
        "#> 1  1  100\n",
        "# 以下省略"
      ],
      "id": "KBC1TmYUHyD8"
    },
    {
      "cell_type": "code",
      "execution_count": null,
      "metadata": {
        "id": "KvLVjMguHyD9"
      },
      "outputs": [],
      "source": [
        "list(my_df.index)\n",
        "#> [0, 1, 2, 3]"
      ],
      "id": "KvLVjMguHyD9"
    },
    {
      "cell_type": "code",
      "execution_count": null,
      "metadata": {
        "id": "pVVdOzzhHyD9"
      },
      "outputs": [],
      "source": [
        "my_df2.index = [\n",
        "    'a', 'b', 'c', 'd', 'e', 'f']\n",
        "my_df2\n",
        "#>    P    Q\n",
        "#> a  1   10\n",
        "#> b  1  100\n",
        "#> c  2   10\n",
        "# 以下省略"
      ],
      "id": "pVVdOzzhHyD9"
    },
    {
      "cell_type": "code",
      "execution_count": null,
      "metadata": {
        "id": "tVo1Fv3VHyD9"
      },
      "outputs": [],
      "source": [
        "my_df3 = pd.DataFrame({\n",
        "    'english': [ 60,  90,  70,  90],\n",
        "    'math':    [ 70,  80,  90, 100],\n",
        "    'gender':  ['f', 'm', 'm', 'f']},\n",
        "    index=     ['A', 'B', 'C', 'D'])\n",
        "my_df3\n",
        "#>    english  math gender\n",
        "#> A       60    70      f\n",
        "#> B       90    80      m\n",
        "#> C       70    90      m\n",
        "#> D       90   100      f"
      ],
      "id": "tVo1Fv3VHyD9"
    },
    {
      "cell_type": "markdown",
      "metadata": {
        "id": "pTduB9PQHyD9"
      },
      "source": [
        "### 3.4.2 データの追加\n",
        "\n",
        "#### 3.4.2.1 行の追加（データフレームの結合）"
      ],
      "id": "pTduB9PQHyD9"
    },
    {
      "cell_type": "code",
      "execution_count": null,
      "metadata": {
        "id": "Q8Bv6mX5HyD-"
      },
      "outputs": [],
      "source": [
        "tmp = pd.DataFrame({\n",
        "    'name'   : ['E'],\n",
        "    'english': [80],\n",
        "    'math'   : [80],\n",
        "    'gender' : ['m']})\n",
        "my_df2 = my_df.append(tmp)"
      ],
      "id": "Q8Bv6mX5HyD-"
    },
    {
      "cell_type": "markdown",
      "metadata": {
        "id": "EDL3eMnJHyD-"
      },
      "source": [
        "#### 3.4.2.2 列の追加"
      ],
      "id": "EDL3eMnJHyD-"
    },
    {
      "cell_type": "code",
      "execution_count": null,
      "metadata": {
        "id": "-mYO8qnJHyD-"
      },
      "outputs": [],
      "source": [
        "my_df2 = my_df.assign(id=[1, 2, 3, 4])"
      ],
      "id": "-mYO8qnJHyD-"
    },
    {
      "cell_type": "code",
      "execution_count": null,
      "metadata": {
        "id": "-mQsVoLeHyD-"
      },
      "outputs": [],
      "source": [
        "my_df3 = my_df.copy()       # コピー\n",
        "my_df3['id'] = [1, 2, 3, 4] # 更新\n",
        "my_df3 # 結果の確認（割愛）"
      ],
      "id": "-mQsVoLeHyD-"
    },
    {
      "cell_type": "markdown",
      "metadata": {
        "id": "SjYwrJEOHyD_"
      },
      "source": [
        "### 3.4.3 データの取り出し\n",
        "\n",
        "#### 3.4.3.1 観測値の取り出し"
      ],
      "id": "SjYwrJEOHyD_"
    },
    {
      "cell_type": "code",
      "execution_count": null,
      "metadata": {
        "id": "7RdG-653HyD_"
      },
      "outputs": [],
      "source": [
        "my_df.iloc[0, 1]\n",
        "#> 60"
      ],
      "id": "7RdG-653HyD_"
    },
    {
      "cell_type": "markdown",
      "metadata": {
        "id": "GEYBidnmHyD_"
      },
      "source": [
        "#### 3.4.3.2 1列の取り出し（結果は1次元データ）"
      ],
      "id": "GEYBidnmHyD_"
    },
    {
      "cell_type": "code",
      "execution_count": null,
      "metadata": {
        "id": "fs6PL3BYHyD_"
      },
      "outputs": [],
      "source": [
        "x = my_df.iloc[:, 1]\n",
        "# あるいは\n",
        "x = my_df['english']\n",
        "# あるいは\n",
        "x = my_df.english\n",
        "# あるいは\n",
        "tmp = 'english'\n",
        "x = my_df[tmp]\n",
        "\n",
        "x # 結果の確認（割愛）"
      ],
      "id": "fs6PL3BYHyD_"
    },
    {
      "cell_type": "markdown",
      "metadata": {
        "id": "pOeCjPJdHyEA"
      },
      "source": [
        "#### 3.4.3.3 複数列の取り出し（結果はデータフレーム）"
      ],
      "id": "pOeCjPJdHyEA"
    },
    {
      "cell_type": "code",
      "execution_count": null,
      "metadata": {
        "id": "7sdYCbnjHyEA"
      },
      "outputs": [],
      "source": [
        "x = my_df[['name', 'math']]\n",
        "# あるいは\n",
        "x = my_df.loc[:, ['name', 'math']]"
      ],
      "id": "7sdYCbnjHyEA"
    },
    {
      "cell_type": "code",
      "execution_count": null,
      "metadata": {
        "id": "GDjBtfj6HyEA"
      },
      "outputs": [],
      "source": [
        "x = my_df.take([0, 2], axis=1)\n",
        "# あるいは\n",
        "x = my_df.iloc[:, [0, 2]]"
      ],
      "id": "GDjBtfj6HyEA"
    },
    {
      "cell_type": "code",
      "execution_count": null,
      "metadata": {
        "id": "I4i52pkiHyEA"
      },
      "outputs": [],
      "source": [
        "x = my_df.drop(\n",
        "    columns=['english', 'gender'])\n",
        "# あるいは\n",
        "x = my_df.drop(\n",
        "    columns=my_df.columns[[1, 3]])"
      ],
      "id": "I4i52pkiHyEA"
    },
    {
      "cell_type": "markdown",
      "metadata": {
        "id": "wUjaCUoMHyEB"
      },
      "source": [
        "#### 3.4.3.4 複数行の取り出し（結果はデータフレーム）"
      ],
      "id": "wUjaCUoMHyEB"
    },
    {
      "cell_type": "code",
      "execution_count": null,
      "metadata": {
        "id": "PGnAC06IHyEB"
      },
      "outputs": [],
      "source": [
        "x = my_df.take([0, 2])\n",
        "# あるいは\n",
        "x = my_df.iloc[[0, 2], :]"
      ],
      "id": "PGnAC06IHyEB"
    },
    {
      "cell_type": "code",
      "execution_count": null,
      "metadata": {
        "id": "B1ppVxPGHyEB"
      },
      "outputs": [],
      "source": [
        "x = my_df.drop([1, 3])"
      ],
      "id": "B1ppVxPGHyEB"
    },
    {
      "cell_type": "markdown",
      "metadata": {
        "id": "vbP5bHyiHyEC"
      },
      "source": [
        "#### 3.4.3.5 検索"
      ],
      "id": "vbP5bHyiHyEC"
    },
    {
      "cell_type": "code",
      "execution_count": null,
      "metadata": {
        "id": "7_FI8sZ-HyEC"
      },
      "outputs": [],
      "source": [
        "x = my_df[my_df['gender'] == 'm']\n",
        "# あるいは\n",
        "x = my_df.query('gender == \"m\"')"
      ],
      "id": "7_FI8sZ-HyEC"
    },
    {
      "cell_type": "code",
      "execution_count": null,
      "metadata": {
        "id": "X2Q0i-7hHyEC"
      },
      "outputs": [],
      "source": [
        "x = my_df[(my_df['english'] > 80) & (my_df['gender'] == \"m\")]\n",
        "# あるいは\n",
        "x = my_df.query('english > 80 and gender == \"m\"')"
      ],
      "id": "X2Q0i-7hHyEC"
    },
    {
      "cell_type": "code",
      "execution_count": null,
      "metadata": {
        "id": "2yipF6jKHyEC"
      },
      "outputs": [],
      "source": [
        "x = my_df[my_df['english'] == my_df['english'].max()]\n",
        "# あるいは\n",
        "tmp = my_df['english'].max()\n",
        "x = my_df.query('english == @tmp')"
      ],
      "id": "2yipF6jKHyEC"
    },
    {
      "cell_type": "code",
      "execution_count": null,
      "metadata": {
        "id": "IoTafM2VHyEC"
      },
      "outputs": [],
      "source": [
        "my_df2 = my_df.copy() # コピー\n",
        "my_df2.loc[my_df['gender'] == 'm', 'gender'] = 'M'"
      ],
      "id": "IoTafM2VHyEC"
    },
    {
      "cell_type": "code",
      "execution_count": null,
      "metadata": {
        "id": "VjUevHkzHyED"
      },
      "outputs": [],
      "source": [
        "my_df2\n",
        "#>   name  english  math gender\n",
        "#> 0    A       60    70      f\n",
        "#> 1    B       90    80      M\n",
        "#> 2    C       70    90      M\n",
        "#> 3    D       90   100      f"
      ],
      "id": "VjUevHkzHyED"
    },
    {
      "cell_type": "markdown",
      "metadata": {
        "id": "jH0sh_WoHyED"
      },
      "source": [
        "#### 3.4.3.6 並べ替え"
      ],
      "id": "jH0sh_WoHyED"
    },
    {
      "cell_type": "code",
      "execution_count": null,
      "metadata": {
        "id": "22KfCPoDHyED"
      },
      "outputs": [],
      "source": [
        "x = my_df.sort_values('english')"
      ],
      "id": "22KfCPoDHyED"
    },
    {
      "cell_type": "code",
      "execution_count": null,
      "metadata": {
        "id": "UBjQWE2dHyED"
      },
      "outputs": [],
      "source": [
        "x = my_df.sort_values('english',\n",
        "    ascending=False)"
      ],
      "id": "UBjQWE2dHyED"
    },
    {
      "cell_type": "markdown",
      "metadata": {
        "id": "yPhv0nGuHyEE"
      },
      "source": [
        "### 3.4.4 補足：行列\n",
        "\n",
        "#### 3.4.4.1 行列の生成"
      ],
      "id": "yPhv0nGuHyEE"
    },
    {
      "cell_type": "code",
      "execution_count": null,
      "metadata": {
        "id": "RmlABPTnHyEE"
      },
      "outputs": [],
      "source": [
        "import numpy as np\n",
        "x = [2, 3, 5, 7, 11, 13, 17, 19, 23,\n",
        "     29, 31, 37]\n",
        "A = np.array(x).reshape(3, 4)\n",
        "A\n",
        "#> array([[ 2,  3,  5,  7],\n",
        "#>        [11, 13, 17, 19],\n",
        "#>        [23, 29, 31, 37]])"
      ],
      "id": "RmlABPTnHyEE"
    },
    {
      "cell_type": "markdown",
      "metadata": {
        "id": "MvfArknvHyEE"
      },
      "source": [
        "#### 3.4.4.2 データフレームと行列"
      ],
      "id": "MvfArknvHyEE"
    },
    {
      "cell_type": "code",
      "execution_count": null,
      "metadata": {
        "id": "TlqP7buvHyEE"
      },
      "outputs": [],
      "source": [
        "A = my_df.iloc[:, [1, 2]].values\n",
        "A\n",
        "#> array([[ 60,  70],\n",
        "#>        [ 90,  80],\n",
        "#>        [ 70,  90],\n",
        "#>        [ 90, 100]])"
      ],
      "id": "TlqP7buvHyEE"
    },
    {
      "cell_type": "code",
      "execution_count": null,
      "metadata": {
        "id": "lD6RQjeOHyEF"
      },
      "outputs": [],
      "source": [
        "pd.DataFrame(A)\n",
        "#>     0    1\n",
        "#> 0  60   70\n",
        "#> 1  90   80\n",
        "#> 2  70   90\n",
        "#> 3  90  100"
      ],
      "id": "lD6RQjeOHyEF"
    },
    {
      "cell_type": "markdown",
      "metadata": {
        "id": "VcfBnKBdHyEF"
      },
      "source": [
        "#### 3.4.4.3 行列の変形"
      ],
      "id": "VcfBnKBdHyEF"
    },
    {
      "cell_type": "code",
      "execution_count": null,
      "metadata": {
        "id": "Wa6jYo4rHyEF"
      },
      "outputs": [],
      "source": [
        "A.T\n",
        "#> array([[ 60,  90,  70,  90],\n",
        "#>        [ 70,  80,  90, 100]])"
      ],
      "id": "Wa6jYo4rHyEF"
    },
    {
      "cell_type": "markdown",
      "metadata": {
        "id": "wXft89IdHyEF"
      },
      "source": [
        "#### 3.4.4.4 行列の積"
      ],
      "id": "wXft89IdHyEF"
    },
    {
      "cell_type": "code",
      "execution_count": null,
      "metadata": {
        "id": "WOndz9pDHyEG"
      },
      "outputs": [],
      "source": [
        "A.T @ A\n",
        "#> array([[24700, 26700],\n",
        "#>        [26700, 29400]])"
      ],
      "id": "WOndz9pDHyEG"
    },
    {
      "cell_type": "markdown",
      "metadata": {
        "id": "78ou4usdHyEG"
      },
      "source": [
        "### 3.4.5 縦型と横型"
      ],
      "id": "78ou4usdHyEG"
    },
    {
      "cell_type": "code",
      "execution_count": null,
      "metadata": {
        "id": "QLGZ9N1VHyEG"
      },
      "outputs": [],
      "source": [
        "my_df = pd.DataFrame({\n",
        "    'day': [25, 26, 27],\n",
        "    'min': [20, 21, 15],\n",
        "    'max': [24, 27, 21]})"
      ],
      "id": "QLGZ9N1VHyEG"
    },
    {
      "cell_type": "code",
      "execution_count": null,
      "metadata": {
        "id": "5vadBW0WHyEG"
      },
      "outputs": [],
      "source": [
        "my_longer = my_df.melt(id_vars='day')\n",
        "my_longer\n",
        "#>    day variable  value\n",
        "#> 0   25      min     20\n",
        "#> 1   26      min     21\n",
        "#> 2   27      min     15\n",
        "#> 3   25      max     24\n",
        "#> 4   26      max     27\n",
        "#> 5   27      max     21"
      ],
      "id": "5vadBW0WHyEG"
    },
    {
      "cell_type": "code",
      "execution_count": null,
      "metadata": {
        "id": "fD1Be86uHyEH"
      },
      "outputs": [],
      "source": [
        "my_wider = my_longer.pivot(\n",
        "    index='day',\n",
        "    columns='variable',\n",
        "    values='value')\n",
        "my_wider\n",
        "#> variable  max  min\n",
        "#> day\n",
        "#> 25         24   20\n",
        "#> 26         27   21\n",
        "#> 27         21   15"
      ],
      "id": "fD1Be86uHyEH"
    },
    {
      "cell_type": "code",
      "execution_count": null,
      "metadata": {
        "id": "8vn-MvTKHyEH"
      },
      "outputs": [],
      "source": [
        "my_wider.plot(\n",
        "    style='o-',\n",
        "    xticks=my_wider.index, # x軸目盛り\n",
        "    ylabel='temperature')  # y軸ラベル"
      ],
      "id": "8vn-MvTKHyEH"
    },
    {
      "cell_type": "markdown",
      "metadata": {
        "id": "1uo6RrwbHyEH"
      },
      "source": [
        "## 3.5 1次元データの（非）類似度\n",
        "\n",
        "### 3.5.1 ユークリッド距離"
      ],
      "id": "1uo6RrwbHyEH"
    },
    {
      "cell_type": "code",
      "execution_count": null,
      "metadata": {
        "id": "skx0mCGcHyEH"
      },
      "outputs": [],
      "source": [
        "import numpy as np\n",
        "from scipy.spatial import distance\n",
        "from scipy.stats import pearsonr\n",
        "\n",
        "A = np.array([3,   4,  5])\n",
        "B = np.array([3,   4, 29])\n",
        "C = np.array([9, -18,  8])\n",
        "\n",
        "distance.euclidean(A, B)\n",
        "#> 24.0\n",
        "\n",
        "distance.euclidean(A, C)\n",
        "#> 23.0"
      ],
      "id": "skx0mCGcHyEH"
    },
    {
      "cell_type": "markdown",
      "metadata": {
        "id": "hlhYxAs5HyEI"
      },
      "source": [
        "### 3.5.2 マンハッタン距離"
      ],
      "id": "hlhYxAs5HyEI"
    },
    {
      "cell_type": "code",
      "execution_count": null,
      "metadata": {
        "id": "gjYOACUQHyEI"
      },
      "outputs": [],
      "source": [
        "distance.cityblock(A, B)\n",
        "#> 24\n",
        "\n",
        "distance.cityblock(A, C)\n",
        "#> 31"
      ],
      "id": "gjYOACUQHyEI"
    },
    {
      "cell_type": "markdown",
      "metadata": {
        "id": "uCik80k6HyEI"
      },
      "source": [
        "### 3.5.3 コサイン類似度"
      ],
      "id": "uCik80k6HyEI"
    },
    {
      "cell_type": "code",
      "execution_count": null,
      "metadata": {
        "id": "7Ivf7waCHyEI"
      },
      "outputs": [],
      "source": [
        "1 - distance.cosine(A, B)\n",
        "#> 0.8169678632647616\n",
        "\n",
        "1 - distance.cosine(A, C)\n",
        "#> -0.032651157422416865"
      ],
      "id": "7Ivf7waCHyEI"
    },
    {
      "cell_type": "markdown",
      "metadata": {
        "id": "zDnsZWL6HyEJ"
      },
      "source": [
        "### 3.5.4 相関係数"
      ],
      "id": "zDnsZWL6HyEJ"
    },
    {
      "cell_type": "code",
      "execution_count": null,
      "metadata": {
        "id": "UkO0mE76HyEJ"
      },
      "outputs": [],
      "source": [
        "1 - distance.correlation(A, B)\n",
        "# あるいは\n",
        "pearsonr(A, B)[0]\n",
        "#> 0.8824975032927698\n",
        "\n",
        "1 - distance.correlation(A, C)\n",
        "# あるいは\n",
        "pearsonr(A, C)[0]\n",
        "#> -0.032662766723200676"
      ],
      "id": "UkO0mE76HyEJ"
    },
    {
      "cell_type": "markdown",
      "metadata": {
        "id": "SPXVl_cQHyEJ"
      },
      "source": [
        "#### 3.5.4.1 データフレームを使う方法"
      ],
      "id": "SPXVl_cQHyEJ"
    },
    {
      "cell_type": "code",
      "execution_count": null,
      "metadata": {
        "id": "Ur39xiyLHyEJ"
      },
      "outputs": [],
      "source": [
        "# 小数点以下は3桁表示\n",
        "np.set_printoptions(precision=3)\n",
        "import pandas as pd\n",
        "\n",
        "my_df = pd.DataFrame({\n",
        "    'x': [3,  3,   9],\n",
        "    'y': [4,  4, -18],\n",
        "    'z': [5, 29,   8]},\n",
        "    index=['A', 'B', 'C'])\n",
        "\n",
        "# ユークリッド距離\n",
        "distance.cdist(my_df, my_df,\n",
        "               metric='euclidean')\n",
        "#> array([[ 0., 24., 23.],\n",
        "#>        [24.,  0., 31.],\n",
        "#>        [23., 31.,  0.]])\n",
        "\n",
        "# マンハッタン距離\n",
        "distance.cdist(my_df, my_df,\n",
        "               metric='cityblock')\n",
        "#> array([[ 0., 24., 31.],\n",
        "#>        [24.,  0., 49.],\n",
        "#>        [31., 49.,  0.]])\n",
        "\n",
        "# コサイン類似度\n",
        "1 - distance.cdist(my_df, my_df,\n",
        "    metric='cosine')\n",
        "#> array([[ 1.   ,  0.817, -0.033],\n",
        "#>        [ 0.817,  1.   ,  0.293],\n",
        "#>        [-0.033,  0.293,  1.   ]])\n",
        "\n",
        "# 相関係数\n",
        "1 - distance.cdist(my_df, my_df,\n",
        "    metric='correlation')\n",
        "#> array([[ 1.   ,  0.882, -0.033],\n",
        "#>        [ 0.882,  1.   ,  0.441],\n",
        "#>        [-0.033,  0.441,  1.   ]])"
      ],
      "id": "Ur39xiyLHyEJ"
    },
    {
      "cell_type": "markdown",
      "metadata": {
        "id": "e90O29vgHyEK"
      },
      "source": [
        "## 3.6 Rのパッケージ，Pythonのモジュール\n",
        "\n",
        "### 3.6.1 Rのパッケージ\n",
        "\n",
        "### 3.6.2 Pythonのモジュール"
      ],
      "id": "e90O29vgHyEK"
    },
    {
      "cell_type": "code",
      "execution_count": null,
      "metadata": {
        "id": "eWvLPiYNHyEK"
      },
      "outputs": [],
      "source": [
        "import math\n",
        "import numpy as np\n",
        "import pandas as pd"
      ],
      "id": "eWvLPiYNHyEK"
    },
    {
      "cell_type": "code",
      "execution_count": null,
      "metadata": {
        "id": "he-PYYirHyEK"
      },
      "outputs": [],
      "source": [
        "import numpy\n",
        "numpy.array([1, 2, 3, 4])"
      ],
      "id": "he-PYYirHyEK"
    },
    {
      "cell_type": "code",
      "execution_count": null,
      "metadata": {
        "id": "jLjWvfGFHyEK"
      },
      "outputs": [],
      "source": [
        "import numpy as np\n",
        "np.array([1, 2, 3, 4])"
      ],
      "id": "jLjWvfGFHyEK"
    },
    {
      "cell_type": "code",
      "execution_count": null,
      "metadata": {
        "id": "hivBEu0PHyEL"
      },
      "outputs": [],
      "source": [
        "from numpy import array\n",
        "array([1, 2, 3, 4])"
      ],
      "id": "hivBEu0PHyEL"
    },
    {
      "cell_type": "code",
      "execution_count": null,
      "metadata": {
        "id": "wHKqx3hxHyEL"
      },
      "outputs": [],
      "source": [
        "from numpy import *\n",
        "array([1, 2, 3, 4])"
      ],
      "id": "wHKqx3hxHyEL"
    },
    {
      "cell_type": "markdown",
      "metadata": {
        "id": "4Omt_43EHyEL"
      },
      "source": [
        "## 3.7 反復処理"
      ],
      "id": "4Omt_43EHyEL"
    },
    {
      "cell_type": "code",
      "execution_count": null,
      "metadata": {
        "id": "O_0rhHfBHyEL"
      },
      "outputs": [],
      "source": [
        "import numpy as np\n",
        "import pandas as pd"
      ],
      "id": "O_0rhHfBHyEL"
    },
    {
      "cell_type": "markdown",
      "metadata": {
        "id": "xz9Dz6O7HyEL"
      },
      "source": [
        "### 3.7.1 指定した回数→1次元データ"
      ],
      "id": "xz9Dz6O7HyEL"
    },
    {
      "cell_type": "code",
      "execution_count": null,
      "metadata": {
        "id": "8rxSuvf3HyEM"
      },
      "outputs": [],
      "source": [
        "def f1(x):\n",
        "    tmp = np.random.random(x)\n",
        "    return np.mean(tmp)\n",
        "\n",
        "f1(10)                # 動作確認\n",
        "#> 0.5427033207230424 # 結果の例"
      ],
      "id": "8rxSuvf3HyEM"
    },
    {
      "cell_type": "code",
      "execution_count": null,
      "metadata": {
        "id": "mzBudWbtHyEM"
      },
      "outputs": [],
      "source": [
        "[f1(10) for i in range(3)]\n",
        "#> [0.4864425069985622,\n",
        "#>  0.4290935578857099,\n",
        "#>  0.535206509631883]"
      ],
      "id": "mzBudWbtHyEM"
    },
    {
      "cell_type": "code",
      "execution_count": null,
      "metadata": {
        "id": "L84Vl6IcHyEM"
      },
      "outputs": [],
      "source": [
        "[f1(10)] * 3\n",
        "#> [0.43725641184595576,\n",
        "#>  0.43725641184595576,\n",
        "#>  0.43725641184595576]"
      ],
      "id": "L84Vl6IcHyEM"
    },
    {
      "cell_type": "markdown",
      "metadata": {
        "id": "vMceND9aHyEM"
      },
      "source": [
        "### 3.7.2 1次元データ→1次元データ"
      ],
      "id": "vMceND9aHyEM"
    },
    {
      "cell_type": "code",
      "execution_count": null,
      "metadata": {
        "id": "Uwc8kxZZHyEN"
      },
      "outputs": [],
      "source": [
        "v = [5, 10, 100]\n",
        "[f1(x) for x in v] # 方法1\n",
        "#> [0.454, 0.419, 0.552]\n",
        "\n",
        "# あるいは\n",
        "\n",
        "v = pd.Series([5, 10, 100])\n",
        "v.apply(f1)        # 方法2\n",
        "#> 0    0.394206\n",
        "#> 1    0.503949\n",
        "#> 2    0.532698\n",
        "#> dtype: float64"
      ],
      "id": "Uwc8kxZZHyEN"
    },
    {
      "cell_type": "code",
      "execution_count": null,
      "metadata": {
        "id": "fa9NcCmQHyEN"
      },
      "outputs": [],
      "source": [
        "pd.Series([10] * 3).apply(f1)\n",
        "# 結果は割愛"
      ],
      "id": "fa9NcCmQHyEN"
    },
    {
      "cell_type": "markdown",
      "metadata": {
        "id": "PPczxFU1HyEN"
      },
      "source": [
        "### 3.7.3 1次元データ→データフレーム"
      ],
      "id": "PPczxFU1HyEN"
    },
    {
      "cell_type": "code",
      "execution_count": null,
      "metadata": {
        "id": "r0JNMyDqHyEO"
      },
      "outputs": [],
      "source": [
        "def f2(n):\n",
        "    tmp = np.random.random(n)\n",
        "    return pd.Series([\n",
        "        n,\n",
        "        tmp.mean(),\n",
        "        tmp.std(ddof=1)],\n",
        "        index=['x', 'p', 'q'])\n",
        "\n",
        "f2(10) # 動作確認\n",
        "#> x    10.000000\n",
        "#> p     0.405898 （平均の例）\n",
        "#> q     0.317374 （標準偏差の例）\n",
        "#> dtype: float64"
      ],
      "id": "r0JNMyDqHyEO"
    },
    {
      "cell_type": "code",
      "execution_count": null,
      "metadata": {
        "id": "RKjw9X2XHyEO"
      },
      "outputs": [],
      "source": [
        "v = pd.Series([5, 10, 100])\n",
        "v.apply(f2)\n",
        "#>        x         p         q\n",
        "#> 0    5.0  0.507798  0.207970\n",
        "#> 1   10.0  0.687198  0.264427\n",
        "#> 2  100.0  0.487872  0.280743"
      ],
      "id": "RKjw9X2XHyEO"
    },
    {
      "cell_type": "markdown",
      "metadata": {
        "id": "veyLepbOHyEO"
      },
      "source": [
        "### 3.7.4 データフレーム→データフレーム"
      ],
      "id": "veyLepbOHyEO"
    },
    {
      "cell_type": "code",
      "execution_count": null,
      "metadata": {
        "id": "9uuA83EIHyEO"
      },
      "outputs": [],
      "source": [
        "def f3(x, y):\n",
        "    tmp = np.random.random(x) * y\n",
        "    return pd.Series([\n",
        "        x,\n",
        "        y,\n",
        "        tmp.mean(),\n",
        "        tmp.std(ddof=1)],\n",
        "        index=['x', 'y', 'p', 'q'])\n",
        "\n",
        "f3(10, 6) # 動作確認\n",
        "#> x    10.000000\n",
        "#> y     6.000000\n",
        "#> p     2.136413 （平均の例）\n",
        "#> q     1.798755 （標準偏差の例）\n",
        "#> dtype: float64"
      ],
      "id": "9uuA83EIHyEO"
    },
    {
      "cell_type": "code",
      "execution_count": null,
      "metadata": {
        "id": "4Cg87kVoHyEP"
      },
      "outputs": [],
      "source": [
        "my_df = pd.DataFrame({\n",
        "    'x': [5, 10, 100,  5, 10, 100],\n",
        "    'y': [6,  6,   6, 12, 12,  12]})\n",
        "\n",
        "my_df.apply(\n",
        "  lambda row: f3(row['x'], row['y']),\n",
        "  axis=1)\n",
        "# あるいは\n",
        "my_df.apply(lambda row:\n",
        "            f3(*row), axis=1)\n",
        "\n",
        "#>        x     y    p    q\n",
        "#> 0   5.00  6.00 3.37 1.96\n",
        "#> 1  10.00  6.00 1.92 0.95\n",
        "#> 2 100.00  6.00 2.90 1.73\n",
        "#> 3   5.00 12.00 6.82 3.00\n",
        "#> 4  10.00 12.00 7.05 2.42\n",
        "#> 5 100.00 12.00 5.90 3.54"
      ],
      "id": "4Cg87kVoHyEP"
    },
    {
      "cell_type": "markdown",
      "metadata": {
        "id": "dNVUDUk3HyEP"
      },
      "source": [
        "### 3.7.5 補足：反復処理の並列化"
      ],
      "id": "dNVUDUk3HyEP"
    },
    {
      "cell_type": "code",
      "execution_count": null,
      "metadata": {
        "id": "xPEpOV7BHyEP"
      },
      "outputs": [],
      "source": [
        "from pandarallel import pandarallel\n",
        "pandarallel.initialize() # 準備\n",
        "\n",
        "v = pd.Series([5, 10, 100])\n",
        "v.parallel_apply(f1)\n",
        "# 結果は割愛"
      ],
      "id": "xPEpOV7BHyEP"
    },
    {
      "cell_type": "markdown",
      "metadata": {
        "id": "fvwavWNhHyEP"
      },
      "source": [
        "## 3.8 その他\n",
        "\n",
        "### 3.8.1 よく遭遇するエラーとその対処方法\n",
        "\n",
        "### 3.8.2 変数や関数についての調査"
      ],
      "id": "fvwavWNhHyEP"
    },
    {
      "cell_type": "code",
      "execution_count": null,
      "metadata": {
        "id": "SCmHXpoOHyEQ"
      },
      "outputs": [],
      "source": [
        "x = 123\n",
        "type(x)\n",
        "#> int"
      ],
      "id": "SCmHXpoOHyEQ"
    },
    {
      "cell_type": "code",
      "execution_count": null,
      "metadata": {
        "id": "Ts7gFkinHyEQ"
      },
      "outputs": [],
      "source": [
        "%whos\n",
        "#> Variable   Type      Data/Info\n",
        "#> ------------------------------\n",
        "#> x          int       123"
      ],
      "id": "Ts7gFkinHyEQ"
    },
    {
      "cell_type": "code",
      "execution_count": null,
      "metadata": {
        "id": "Nn_ySn_BHyEQ"
      },
      "outputs": [],
      "source": [
        "import math\n",
        "?math.log\n",
        "# あるいは\n",
        "help(math.log)"
      ],
      "id": "Nn_ySn_BHyEQ"
    },
    {
      "cell_type": "markdown",
      "metadata": {
        "id": "J4bPOy7jHyEQ"
      },
      "source": [
        "### 3.8.3 RのNA，Pythonのnan"
      ],
      "id": "J4bPOy7jHyEQ"
    },
    {
      "cell_type": "code",
      "execution_count": null,
      "metadata": {
        "id": "xim7b5oyHyER"
      },
      "outputs": [],
      "source": [
        "import numpy as np\n",
        "v = [1, np.nan, 3]\n",
        "v\n",
        "#> [1, nan, 3]"
      ],
      "id": "xim7b5oyHyER"
    },
    {
      "cell_type": "code",
      "execution_count": null,
      "metadata": {
        "id": "BlDzpzKsHyER"
      },
      "outputs": [],
      "source": [
        "np.isnan(v[1])\n",
        "#> True\n",
        "\n",
        "v[1] == np.nan # 誤り\n",
        "#> False"
      ],
      "id": "BlDzpzKsHyER"
    }
  ],
  "nbformat": 4,
  "nbformat_minor": 5,
  "metadata": {
    "kernelspec": {
      "name": "python3",
      "display_name": "Python 3"
    },
    "colab": {
      "provenance": []
    }
  }
}